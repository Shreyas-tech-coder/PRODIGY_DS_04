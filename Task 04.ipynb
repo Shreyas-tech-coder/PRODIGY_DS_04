{
 "cells": [
  {
   "cell_type": "code",
   "execution_count": 2,
   "id": "894f77f7-be3e-4a48-952b-0afd48d779cc",
   "metadata": {},
   "outputs": [],
   "source": [
    "import pandas as pd\n",
    "import matplotlib.pyplot as plt"
   ]
  },
  {
   "cell_type": "code",
   "execution_count": 3,
   "id": "4294f78f-6d28-4b03-a74a-f6455ae764c7",
   "metadata": {},
   "outputs": [],
   "source": [
    "column_names = ['ID', 'Game/Brand', 'Sentiment', 'Text']"
   ]
  },
  {
   "cell_type": "code",
   "execution_count": 5,
   "id": "da655f7f-ff8c-42ec-9c99-a115ecc4b809",
   "metadata": {},
   "outputs": [],
   "source": [
    "twitter_training_df = pd.read_csv('twitter_training.csv', header=None, names=column_names)"
   ]
  },
  {
   "cell_type": "code",
   "execution_count": 6,
   "id": "aee6544a-f793-4da0-89c1-58b571447323",
   "metadata": {},
   "outputs": [],
   "source": [
    "twitter_validation_df = pd.read_csv('twitter_validation.csv', header=None, names=column_names)"
   ]
  },
  {
   "cell_type": "code",
   "execution_count": 7,
   "id": "2f3d057f-1529-4f74-9103-48c55a9254e0",
   "metadata": {},
   "outputs": [
    {
     "name": "stdout",
     "output_type": "stream",
     "text": [
      "--- Training Data Information ---\n",
      "<class 'pandas.core.frame.DataFrame'>\n",
      "RangeIndex: 74682 entries, 0 to 74681\n",
      "Data columns (total 4 columns):\n",
      " #   Column      Non-Null Count  Dtype \n",
      "---  ------      --------------  ----- \n",
      " 0   ID          74682 non-null  int64 \n",
      " 1   Game/Brand  74682 non-null  object\n",
      " 2   Sentiment   74682 non-null  object\n",
      " 3   Text        73996 non-null  object\n",
      "dtypes: int64(1), object(3)\n",
      "memory usage: 2.3+ MB\n",
      "\n",
      "--- Training Data Head ---\n",
      "     ID   Game/Brand Sentiment  \\\n",
      "0  2401  Borderlands  Positive   \n",
      "1  2401  Borderlands  Positive   \n",
      "2  2401  Borderlands  Positive   \n",
      "3  2401  Borderlands  Positive   \n",
      "4  2401  Borderlands  Positive   \n",
      "\n",
      "                                                Text  \n",
      "0  im getting on borderlands and i will murder yo...  \n",
      "1  I am coming to the borders and I will kill you...  \n",
      "2  im getting on borderlands and i will kill you ...  \n",
      "3  im coming on borderlands and i will murder you...  \n",
      "4  im getting on borderlands 2 and i will murder ...  \n"
     ]
    }
   ],
   "source": [
    "print(\"--- Training Data Information ---\")\n",
    "twitter_training_df.info()\n",
    "# Display the first few rows of the training DataFrame\n",
    "print(\"\\n--- Training Data Head ---\")\n",
    "print(twitter_training_df.head())"
   ]
  },
  {
   "cell_type": "code",
   "execution_count": 8,
   "id": "e5c2bb9a-18e9-4fc4-9028-fd07a42f226d",
   "metadata": {},
   "outputs": [
    {
     "name": "stdout",
     "output_type": "stream",
     "text": [
      "\n",
      "--- Validation Data Information ---\n",
      "<class 'pandas.core.frame.DataFrame'>\n",
      "RangeIndex: 1000 entries, 0 to 999\n",
      "Data columns (total 4 columns):\n",
      " #   Column      Non-Null Count  Dtype \n",
      "---  ------      --------------  ----- \n",
      " 0   ID          1000 non-null   int64 \n",
      " 1   Game/Brand  1000 non-null   object\n",
      " 2   Sentiment   1000 non-null   object\n",
      " 3   Text        1000 non-null   object\n",
      "dtypes: int64(1), object(3)\n",
      "memory usage: 31.4+ KB\n",
      "\n",
      "--- Validation Data Head ---\n",
      "     ID Game/Brand   Sentiment  \\\n",
      "0  3364   Facebook  Irrelevant   \n",
      "1   352     Amazon     Neutral   \n",
      "2  8312  Microsoft    Negative   \n",
      "3  4371      CS-GO    Negative   \n",
      "4  4433     Google     Neutral   \n",
      "\n",
      "                                                Text  \n",
      "0  I mentioned on Facebook that I was struggling ...  \n",
      "1  BBC News - Amazon boss Jeff Bezos rejects clai...  \n",
      "2  @Microsoft Why do I pay for WORD when it funct...  \n",
      "3  CSGO matchmaking is so full of closet hacking,...  \n",
      "4  Now the President is slapping Americans in the...  \n"
     ]
    }
   ],
   "source": [
    "print(\"\\n--- Validation Data Information ---\")\n",
    "twitter_validation_df.info()\n",
    "# Display the first few rows of the validation DataFrame\n",
    "print(\"\\n--- Validation Data Head ---\")\n",
    "print(twitter_validation_df.head())"
   ]
  },
  {
   "cell_type": "code",
   "execution_count": 9,
   "id": "4d7d74ab-47f6-4841-99f3-8a601cef99b8",
   "metadata": {},
   "outputs": [],
   "source": [
    "combined_df = pd.concat([twitter_training_df, twitter_validation_df], ignore_index=True)"
   ]
  },
  {
   "cell_type": "code",
   "execution_count": 10,
   "id": "6ca69227-4b67-4d97-889c-345e252bdda0",
   "metadata": {},
   "outputs": [
    {
     "name": "stdout",
     "output_type": "stream",
     "text": [
      "\n",
      "--- Combined Data Information ---\n",
      "<class 'pandas.core.frame.DataFrame'>\n",
      "RangeIndex: 75682 entries, 0 to 75681\n",
      "Data columns (total 4 columns):\n",
      " #   Column      Non-Null Count  Dtype \n",
      "---  ------      --------------  ----- \n",
      " 0   ID          75682 non-null  int64 \n",
      " 1   Game/Brand  75682 non-null  object\n",
      " 2   Sentiment   75682 non-null  object\n",
      " 3   Text        74996 non-null  object\n",
      "dtypes: int64(1), object(3)\n",
      "memory usage: 2.3+ MB\n",
      "\n",
      "--- Combined Data Head ---\n",
      "     ID   Game/Brand Sentiment  \\\n",
      "0  2401  Borderlands  Positive   \n",
      "1  2401  Borderlands  Positive   \n",
      "2  2401  Borderlands  Positive   \n",
      "3  2401  Borderlands  Positive   \n",
      "4  2401  Borderlands  Positive   \n",
      "\n",
      "                                                Text  \n",
      "0  im getting on borderlands and i will murder yo...  \n",
      "1  I am coming to the borders and I will kill you...  \n",
      "2  im getting on borderlands and i will kill you ...  \n",
      "3  im coming on borderlands and i will murder you...  \n",
      "4  im getting on borderlands 2 and i will murder ...  \n"
     ]
    }
   ],
   "source": [
    "print(\"\\n--- Combined Data Information ---\")\n",
    "combined_df.info()\n",
    "print(\"\\n--- Combined Data Head ---\")\n",
    "print(combined_df.head())"
   ]
  },
  {
   "cell_type": "code",
   "execution_count": 11,
   "id": "42b62ab3-b827-4b1b-9daf-3d33053426d0",
   "metadata": {},
   "outputs": [
    {
     "name": "stdout",
     "output_type": "stream",
     "text": [
      "\n",
      "--- Sentiment Counts ---\n",
      "Sentiment\n",
      "Negative      22808\n",
      "Positive      21109\n",
      "Neutral       18603\n",
      "Irrelevant    13162\n",
      "Name: count, dtype: int64\n"
     ]
    }
   ],
   "source": [
    "sentiment_counts = combined_df['Sentiment'].value_counts()\n",
    "print(\"\\n--- Sentiment Counts ---\")\n",
    "print(sentiment_counts)"
   ]
  },
  {
   "cell_type": "code",
   "execution_count": 12,
   "id": "ec6fdf2a-e58a-4029-986c-13c8c08fdb49",
   "metadata": {},
   "outputs": [
    {
     "name": "stdout",
     "output_type": "stream",
     "text": [
      "\n",
      "Sentiment distribution plot saved as 'sentiment_distribution.png'\n"
     ]
    },
    {
     "data": {
      "image/png": "[encoded data removed]",
      "text/plain": [
       "<Figure size 1000x600 with 1 Axes>"
      ]
     },
     "metadata": {},
     "output_type": "display_data"
    }
   ],
   "source": [
    "plt.figure(figsize=(10, 6)) # Set the figure size for better readability\n",
    "sentiment_counts.plot(kind='bar', color=['skyblue', 'salmon', 'lightgreen', 'orange'])\n",
    "plt.title('Distribution of Sentiments in Social Media Data') # Set the plot title\n",
    "plt.xlabel('Sentiment') # Label for the x-axis\n",
    "plt.ylabel('Number of Tweets') # Label for the y-axis\n",
    "plt.xticks(rotation=45) # Rotate x-axis labels for better visibility if they are long\n",
    "plt.grid(axis='y', linestyle='--', alpha=0.7) # Add a horizontal grid for easier comparison\n",
    "plt.tight_layout() # Adjust plot to ensure everything fits without overlapping\n",
    "plt.savefig('sentiment_distribution.png') # Save the plot to a file\n",
    "print(\"\\nSentiment distribution plot saved as 'sentiment_distribution.png'\")"
   ]
  },
  {
   "cell_type": "code",
   "execution_count": null,
   "id": "56722f1f-8c5d-45d2-911e-d200ee1acc8c",
   "metadata": {},
   "outputs": [],
   "source": []
  }
 ],
 "metadata": {
  "kernelspec": {
   "display_name": "Python 3 (ipykernel)",
   "language": "python",
   "name": "python3"
  },
  "language_info": {
   "codemirror_mode": {
    "name": "ipython",
    "version": 3
   },
   "file_extension": ".py",
   "mimetype": "text/x-python",
   "name": "python",
   "nbconvert_exporter": "python",
   "pygments_lexer": "ipython3",
   "version": "3.13.5"
  }
 },
 "nbformat": 4,
 "nbformat_minor": 5
}
